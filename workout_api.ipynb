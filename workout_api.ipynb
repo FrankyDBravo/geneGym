{
 "cells": [
  {
   "cell_type": "code",
   "execution_count": 204,
   "metadata": {},
   "outputs": [],
   "source": [
    "import pandas as pd\n",
    "import numpy as np"
   ]
  },
  {
   "cell_type": "code",
   "execution_count": null,
   "metadata": {},
   "outputs": [],
   "source": []
  },
  {
   "cell_type": "code",
   "execution_count": 2,
   "metadata": {},
   "outputs": [],
   "source": [
    "workout_types_dict = {1:'full_body',2:\"split\"}\n",
    "workout_goal_dict = {1:'loose_weight',2:\"gain_muscles\",3:\"calisthenics\",4:\"gain_strength\",5:\"others\"}\n",
    "\n",
    "workout_type = 1\n",
    "workout_goal = 2\n",
    "workout_nb_days = 4 #nb of days per week\n",
    "\n",
    "training_duration = 60 # nb of min for a workout"
   ]
  },
  {
   "cell_type": "code",
   "execution_count": 218,
   "metadata": {},
   "outputs": [],
   "source": [
    "class WorkoutPlan():\n",
    "    \n",
    "    def __init__(self,workout_type,workout_goal,nb_days,duration):\n",
    "        \n",
    "        self.workout_type = workout_type\n",
    "        self.goal = workout_goal\n",
    "        self.nb_days = nb_days\n",
    "        self.duration = duration\n",
    "        \n",
    "    def generate_wo_split_categories(self):\n",
    "        df_muscles =pd.read_csv('list_muscles.csv',index_col=0)\n",
    "\n",
    "        categories_imp = dict(df_muscles.groupby('category')['importance'].mean())\n",
    "        if self.nb_days >= 3 and self.nb_days < 5:\n",
    "            \n",
    "            categories = df_muscles[df_muscles['category']!='legs'].category.unique()\n",
    "            muscle_train = {}\n",
    "            muscle_train[self.nb_days-1] = ['legs']\n",
    "            categories_imp.pop('legs')\n",
    "            nb_muscles_group = len(categories_imp)/(self.nb_days-1)\n",
    "            \n",
    "            if nb_muscles_group<2:\n",
    "                nb_muscle_group = 2\n",
    "                max_value = max(categories_imp.values())\n",
    "                max_dict = {key:value for key, value in \n",
    "                     categories_imp.items() if value == max_value}\n",
    "                left_over = list(max_dict.keys())[0]\n",
    "                \n",
    "            print('nb_muscles_group:',nb_muscles_group)\n",
    "            for i in range(self.nb_days-1):\n",
    "                \n",
    "                \n",
    "                min_value = min(categories_imp.values())\n",
    "                min_dict = {key:value for key, value in \n",
    "                     categories_imp.items() if value == min_value}\n",
    "                muscle_chosen = list(min_dict.keys())[0]\n",
    "\n",
    "                muscle_train[i] = [muscle_chosen] \n",
    "                categories_imp.pop(muscle_chosen)\n",
    "\n",
    "\n",
    "                while len(muscle_train.get(i,[]))<nb_muscles_group and  \\\n",
    "                        len(categories_imp)>0:\n",
    "\n",
    "                    max_value = max(categories_imp.values())\n",
    "                    max_dict = {key:value for key, value in \n",
    "                         categories_imp.items() if value == max_value}\n",
    "\n",
    "                    muscle_chosen = list(max_dict.keys())[0]\n",
    "                    muscle_train[i]+=[muscle_chosen] \n",
    "                    categories_imp.pop(muscle_chosen)\n",
    "                    \n",
    "        muscle_train[self.nb_days-2] += [left_over]\n",
    "        \n",
    "        self.muscle_days = muscle_train\n",
    "        return muscle_train\n",
    "    \n",
    "    def generate_excercise(self):\n",
    "        print('ok')\n",
    "        nb_exos = 3\n",
    "        df_muscles = pd.read_csv('list_muscles.csv',index_col=0)\n",
    "        category_to_id = df_muscles[['category','category_id']].set_index('category')\n",
    "        dict_category = category_to_id.to_dict()['category_id']\n",
    "        df_exercise = pd.read_csv('list_exercises.csv',index_col=0)\n",
    "        exercises_day = {}\n",
    "        for day in self.muscle_days.keys():\n",
    "            \n",
    "            muscles_category = self.muscle_days[day]\n",
    "            exercises_day[day] = {}\n",
    "            for muscle_cat in muscles_category:\n",
    "                category_id = dict_category[muscle_cat]\n",
    "                \n",
    "                df_exo_all = df_exercise[df_exercise['category']==category_id]\n",
    "                list_exo = []\n",
    "                for i in range(nb_exos):\n",
    "                    rand_exo = np.random.randint(len(df_exo_all))\n",
    "                    list_exo.append(df_exo_all.iloc[rand_exo]['name'])\n",
    "                exercises_day[day][muscle_cat] = list_exo\n",
    "                \n",
    "        return exercises_day\n",
    "    \n",
    "class Muscle()\n",
    "\n",
    "    def __init__(self):\n",
    "    \n",
    "        \n",
    "            "
   ]
  },
  {
   "cell_type": "code",
   "execution_count": 219,
   "metadata": {},
   "outputs": [
    {
     "name": "stdout",
     "output_type": "stream",
     "text": [
      "nb_muscles_group: 1.6666666666666667\n"
     ]
    },
    {
     "data": {
      "text/plain": [
       "{0: ['back', 'arms'],\n",
       " 1: ['chest', 'shoulders'],\n",
       " 2: ['abs', 'arms'],\n",
       " 3: ['legs']}"
      ]
     },
     "execution_count": 219,
     "metadata": {},
     "output_type": "execute_result"
    }
   ],
   "source": [
    "w1 = WorkoutPlan(1,2,4,60)\n",
    "w1.generate_wo_split_categories()"
   ]
  },
  {
   "cell_type": "code",
   "execution_count": 220,
   "metadata": {},
   "outputs": [
    {
     "name": "stdout",
     "output_type": "stream",
     "text": [
      "ok\n"
     ]
    },
    {
     "data": {
      "text/plain": [
       "{0: {'arms': ['Preacher Curls', 'Hammercurls', 'Triceps Machine'],\n",
       "  'back': ['Renegade Row', 'Pendelay Rows', 'Close-grip Lat Pull Down']},\n",
       " 1: {'chest': ['Burpees', 'Dips', 'Side to Side Push Ups'],\n",
       "  'shoulders': ['Push Press', 'Side Raise', 'Diagonal Shoulder Press']},\n",
       " 2: {'abs': ['Leg Raises, Lying', 'Side Plank', 'Side Plank'],\n",
       "  'arms': ['Reverse Bar Curl',\n",
       "   'Biceps Curl With Cable',\n",
       "   'Biceps Curls With Barbell']},\n",
       " 3: {'legs': ['Front Squats', 'Hip Thrust', 'Stiff-legged Deadlifts']}}"
      ]
     },
     "execution_count": 220,
     "metadata": {},
     "output_type": "execute_result"
    }
   ],
   "source": [
    "w1.generate_excercise()"
   ]
  },
  {
   "cell_type": "code",
   "execution_count": null,
   "metadata": {},
   "outputs": [],
   "source": []
  }
 ],
 "metadata": {
  "kernelspec": {
   "display_name": "Python 3",
   "language": "python",
   "name": "python3"
  },
  "language_info": {
   "codemirror_mode": {
    "name": "ipython",
    "version": 3
   },
   "file_extension": ".py",
   "mimetype": "text/x-python",
   "name": "python",
   "nbconvert_exporter": "python",
   "pygments_lexer": "ipython3",
   "version": "3.7.1"
  }
 },
 "nbformat": 4,
 "nbformat_minor": 4
}
